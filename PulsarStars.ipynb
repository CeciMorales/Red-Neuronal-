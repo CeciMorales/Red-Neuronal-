{
 "cells": [
  {
   "cell_type": "code",
   "execution_count": 1,
   "metadata": {},
   "outputs": [],
   "source": [
    "import numpy as np\n",
    "import pandas as pd\n",
    "import matplotlib.pyplot as plt\n",
    "%matplotlib inline"
   ]
  },
  {
   "cell_type": "code",
   "execution_count": 2,
   "metadata": {},
   "outputs": [],
   "source": [
    "#importar el documento \n",
    "stars = pd.read_csv(\"pulsar_stars.csv\")"
   ]
  },
  {
   "cell_type": "code",
   "execution_count": 3,
   "metadata": {},
   "outputs": [
    {
     "data": {
      "text/html": [
       "<div>\n",
       "<style scoped>\n",
       "    .dataframe tbody tr th:only-of-type {\n",
       "        vertical-align: middle;\n",
       "    }\n",
       "\n",
       "    .dataframe tbody tr th {\n",
       "        vertical-align: top;\n",
       "    }\n",
       "\n",
       "    .dataframe thead th {\n",
       "        text-align: right;\n",
       "    }\n",
       "</style>\n",
       "<table border=\"1\" class=\"dataframe\">\n",
       "  <thead>\n",
       "    <tr style=\"text-align: right;\">\n",
       "      <th></th>\n",
       "      <th>Mean of the integrated profile</th>\n",
       "      <th>Standard deviation of the integrated profile</th>\n",
       "      <th>Excess kurtosis of the integrated profile</th>\n",
       "      <th>Skewness of the integrated profile</th>\n",
       "      <th>Mean of the DM-SNR curve</th>\n",
       "      <th>Standard deviation of the DM-SNR curve</th>\n",
       "      <th>Excess kurtosis of the DM-SNR curve</th>\n",
       "      <th>Skewness of the DM-SNR curve</th>\n",
       "      <th>target_class</th>\n",
       "    </tr>\n",
       "  </thead>\n",
       "  <tbody>\n",
       "    <tr>\n",
       "      <th>0</th>\n",
       "      <td>140.562500</td>\n",
       "      <td>55.683782</td>\n",
       "      <td>-0.234571</td>\n",
       "      <td>-0.699648</td>\n",
       "      <td>3.199833</td>\n",
       "      <td>19.110426</td>\n",
       "      <td>7.975532</td>\n",
       "      <td>74.242225</td>\n",
       "      <td>0</td>\n",
       "    </tr>\n",
       "    <tr>\n",
       "      <th>1</th>\n",
       "      <td>102.507812</td>\n",
       "      <td>58.882430</td>\n",
       "      <td>0.465318</td>\n",
       "      <td>-0.515088</td>\n",
       "      <td>1.677258</td>\n",
       "      <td>14.860146</td>\n",
       "      <td>10.576487</td>\n",
       "      <td>127.393580</td>\n",
       "      <td>0</td>\n",
       "    </tr>\n",
       "    <tr>\n",
       "      <th>2</th>\n",
       "      <td>103.015625</td>\n",
       "      <td>39.341649</td>\n",
       "      <td>0.323328</td>\n",
       "      <td>1.051164</td>\n",
       "      <td>3.121237</td>\n",
       "      <td>21.744669</td>\n",
       "      <td>7.735822</td>\n",
       "      <td>63.171909</td>\n",
       "      <td>0</td>\n",
       "    </tr>\n",
       "    <tr>\n",
       "      <th>3</th>\n",
       "      <td>136.750000</td>\n",
       "      <td>57.178449</td>\n",
       "      <td>-0.068415</td>\n",
       "      <td>-0.636238</td>\n",
       "      <td>3.642977</td>\n",
       "      <td>20.959280</td>\n",
       "      <td>6.896499</td>\n",
       "      <td>53.593661</td>\n",
       "      <td>0</td>\n",
       "    </tr>\n",
       "    <tr>\n",
       "      <th>4</th>\n",
       "      <td>88.726562</td>\n",
       "      <td>40.672225</td>\n",
       "      <td>0.600866</td>\n",
       "      <td>1.123492</td>\n",
       "      <td>1.178930</td>\n",
       "      <td>11.468720</td>\n",
       "      <td>14.269573</td>\n",
       "      <td>252.567306</td>\n",
       "      <td>0</td>\n",
       "    </tr>\n",
       "  </tbody>\n",
       "</table>\n",
       "</div>"
      ],
      "text/plain": [
       "    Mean of the integrated profile  \\\n",
       "0                       140.562500   \n",
       "1                       102.507812   \n",
       "2                       103.015625   \n",
       "3                       136.750000   \n",
       "4                        88.726562   \n",
       "\n",
       "    Standard deviation of the integrated profile  \\\n",
       "0                                      55.683782   \n",
       "1                                      58.882430   \n",
       "2                                      39.341649   \n",
       "3                                      57.178449   \n",
       "4                                      40.672225   \n",
       "\n",
       "    Excess kurtosis of the integrated profile  \\\n",
       "0                                   -0.234571   \n",
       "1                                    0.465318   \n",
       "2                                    0.323328   \n",
       "3                                   -0.068415   \n",
       "4                                    0.600866   \n",
       "\n",
       "    Skewness of the integrated profile   Mean of the DM-SNR curve  \\\n",
       "0                            -0.699648                   3.199833   \n",
       "1                            -0.515088                   1.677258   \n",
       "2                             1.051164                   3.121237   \n",
       "3                            -0.636238                   3.642977   \n",
       "4                             1.123492                   1.178930   \n",
       "\n",
       "    Standard deviation of the DM-SNR curve  \\\n",
       "0                                19.110426   \n",
       "1                                14.860146   \n",
       "2                                21.744669   \n",
       "3                                20.959280   \n",
       "4                                11.468720   \n",
       "\n",
       "    Excess kurtosis of the DM-SNR curve   Skewness of the DM-SNR curve  \\\n",
       "0                              7.975532                      74.242225   \n",
       "1                             10.576487                     127.393580   \n",
       "2                              7.735822                      63.171909   \n",
       "3                              6.896499                      53.593661   \n",
       "4                             14.269573                     252.567306   \n",
       "\n",
       "   target_class  \n",
       "0             0  \n",
       "1             0  \n",
       "2             0  \n",
       "3             0  \n",
       "4             0  "
      ]
     },
     "execution_count": 3,
     "metadata": {},
     "output_type": "execute_result"
    }
   ],
   "source": [
    "#mostar los primeros elementos de la tabla\n",
    "stars.head()"
   ]
  },
  {
   "cell_type": "code",
   "execution_count": 4,
   "metadata": {},
   "outputs": [
    {
     "data": {
      "text/plain": [
       "(17898, 9)"
      ]
     },
     "execution_count": 4,
     "metadata": {},
     "output_type": "execute_result"
    }
   ],
   "source": [
    "#vemos la medida de la tabla para poder establecer una matriz\n",
    "stars.shape"
   ]
  },
  {
   "cell_type": "code",
   "execution_count": 5,
   "metadata": {},
   "outputs": [],
   "source": [
    "'''\n",
    "Para poder establecer los valores de X y Y respectivamente debemos de dividir la \n",
    "tabla en los valores de los atributos y la segunda son los resultados que se\n",
    "obtuvieron en cada caso\n",
    "'''\n",
    "X = stars.iloc[:, 0:8].values\n",
    "lastColumn = stars.iloc[0:, 8].values"
   ]
  },
  {
   "cell_type": "code",
   "execution_count": 6,
   "metadata": {},
   "outputs": [],
   "source": [
    "#Acomodar los valores de Y para tener una matriz de 17898 x 1\n",
    "Y = np.zeros((17898, 1))\n",
    "count = 0\n",
    "for i in lastColumn.transpose():\n",
    "    Y[count, 0] = i\n",
    "    count=count+1"
   ]
  },
  {
   "cell_type": "code",
   "execution_count": null,
   "metadata": {},
   "outputs": [],
   "source": []
  },
  {
   "cell_type": "code",
   "execution_count": 7,
   "metadata": {},
   "outputs": [
    {
     "name": "stdout",
     "output_type": "stream",
     "text": [
      "[[ 0.11802049  0.04675377 -0.00019695 ...  0.01604569  0.0066965\n",
      "   0.062336  ]\n",
      " [ 0.08606863  0.04943945  0.0003907  ...  0.01247702  0.00888034\n",
      "   0.10696347]\n",
      " [ 0.08649501  0.03303243  0.00027148 ...  0.01825748  0.00649523\n",
      "   0.05304103]\n",
      " ...\n",
      " [ 0.10019803  0.05032401  0.00013381 ...  0.0494307   0.00209867\n",
      "   0.00385824]\n",
      " [ 0.09614419  0.04525807  0.0001689  ...  0.0112357   0.00840299\n",
      "   0.11271101]\n",
      " [ 0.04791139  0.07203802  0.00118085 ...  0.05433461 -0.00134133\n",
      "   0.00120023]]\n"
     ]
    }
   ],
   "source": [
    "#Normalizar X \n",
    "Xn = X/X.max()\n",
    "print(Xn)"
   ]
  },
  {
   "cell_type": "code",
   "execution_count": 8,
   "metadata": {},
   "outputs": [
    {
     "name": "stdout",
     "output_type": "stream",
     "text": [
      "[[0.]\n",
      " [0.]\n",
      " [0.]\n",
      " ...\n",
      " [0.]\n",
      " [0.]\n",
      " [0.]]\n"
     ]
    }
   ],
   "source": [
    "#normalizar Y final\n",
    "yn = Y/100\n",
    "print(yn)"
   ]
  },
  {
   "cell_type": "code",
   "execution_count": 9,
   "metadata": {},
   "outputs": [
    {
     "data": {
      "text/plain": [
       "<matplotlib.axes._subplots.AxesSubplot at 0x1ca150d4898>"
      ]
     },
     "execution_count": 9,
     "metadata": {},
     "output_type": "execute_result"
    },
    {
     "data": {
      "image/png": "[encoded data removed]",
      "text/plain": [
       "<Figure size 432x288 with 1 Axes>"
      ]
     },
     "metadata": {},
     "output_type": "display_data"
    }
   ],
   "source": [
    "'''\n",
    "Podemos graficar el resultado de cualquier atributo con el resultado que \n",
    "desamos obtener\n",
    "'''\n",
    "stars[:].plot(x=\" Mean of the integrated profile\", y=\"target_class\")"
   ]
  },
  {
   "cell_type": "code",
   "execution_count": 12,
   "metadata": {},
   "outputs": [
    {
     "name": "stdout",
     "output_type": "stream",
     "text": [
      "[[0.]\n",
      " [0.]\n",
      " [0.]\n",
      " ...\n",
      " [0.]\n",
      " [0.]\n",
      " [0.]]\n"
     ]
    }
   ],
   "source": [
    "#Obtenemos un flatten array de yn\n",
    "yn.ravel()\n",
    "print(yn)"
   ]
  },
  {
   "cell_type": "code",
   "execution_count": 50,
   "metadata": {},
   "outputs": [],
   "source": [
    "#Etapa de aprendizaje\n",
    "class RedNeuronal():\n",
    "    def __init__(self):\n",
    "        self.inputs = 8  #número de atributos que deseamos ingresar\n",
    "        self.outputs = 1 #siempre queremos obtener un solo resultado de outputs\n",
    "        self.hidden = 5  #capa oculta que realizará las operaciónes\n",
    "        self.W1 = np.random.rand(self.inputs, self.hidden)\n",
    "        self.W2 = np.random.rand(self.hidden, self.outputs)\n",
    "        \n",
    "    def sigmoide(self, Z):\n",
    "        return 1 / (1 + np.exp(-Z))\n",
    "    def feedForward(self, X):\n",
    "        self.Z2 =  X @ self.W1  \n",
    "        self.a2 =  self.sigmoide(self.Z2) \n",
    "        self.Z3 =   self.a2 @ self.W2 \n",
    "        self.yhat =  self.sigmoide(self.Z3)\n",
    "        return self.yhat\n",
    "    \n",
    "    def sigmoideDerivada(self, Z):\n",
    "        return np.exp(-Z)/((1+np.exp(-Z))**2)\n",
    "    \n",
    "    def funcionCosto(self, X, y):\n",
    "        self.yhat = self.feedForward(X)\n",
    "        Costo = 0.5*sum((y-self.yhat)**2)\n",
    "        return Costo\n",
    "    \n",
    "    def funcionDeCostoDerivada(self, X, y):\n",
    "        self.yhat = self.feedForward(X)\n",
    "        self.delta3 = np.multiply( -(y-self.yhat),\\\n",
    "                                  self.sigmoideDerivada(self.Z3))\n",
    "        djW2 = self.a2.T @ self.delta3\n",
    "        \n",
    "        self.delta2 = self.delta3@self.W2.T *self.sigmoideDerivada(self.Z2)\n",
    "        djW1 = X.T @ self.delta2 \n",
    "        \n",
    "        return djW1, djW2\n",
    "    \n",
    "    def getPesos(self):\n",
    "        data = np.concatenate((self.W1.ravel(), self.W2.ravel()))\n",
    "        return data\n",
    "   \n",
    "    def setPesos(self, datos):\n",
    "        W1_inicio = 0\n",
    "        W1_fin = self.hidden * self.inputs\n",
    "        self.W1 = np.reshape(datos[W1_inicio:W1_fin], (self.inputs , self.hidden))\n",
    "        W2_fin = W1_fin + self.hidden*self.outputs\n",
    "        self.W2 = np.reshape(datos[W1_fin:W2_fin], (self.hidden, self.outputs))\n",
    "   \n",
    "    def getGradientes(self, X, y):\n",
    "        djW1, djW2 = self.funcionDeCostoDerivada(X, y)\n",
    "        return np.concatenate((djW1.ravel(), djW2.ravel()))"
   ]
  },
  {
   "cell_type": "code",
   "execution_count": 51,
   "metadata": {},
   "outputs": [
    {
     "name": "stdout",
     "output_type": "stream",
     "text": [
      "[6370.85418301]\n"
     ]
    }
   ],
   "source": [
    "#Creamos una instancia de la red neuronal y calculamos el error producido \n",
    "rn = RedNeuronal()\n",
    "error = rn.funcionCosto(Xn, yn)\n",
    "print(error)"
   ]
  },
  {
   "cell_type": "code",
   "execution_count": 55,
   "metadata": {},
   "outputs": [],
   "source": [
    "#Fase de aprendizaje\n",
    "from scipy import optimize\n",
    "class Entrenador:\n",
    "    def __init__(self, unaRed):\n",
    "        #referencia a una red local\n",
    "        self.NN = unaRed\n",
    "       \n",
    "    def actualizaPesos(self, params):\n",
    "        self.NN.setPesos(params)\n",
    "        self.Costos.append(self.NN.funcionCosto(self.X, self.y))  \n",
    "       \n",
    "    def obtenPesosNN(self, params, X, y):\n",
    "        self.NN.setPesos(params)\n",
    "        cost = self.NN.funcionCosto(X, y)\n",
    "        grad = self.NN.getGradientes(X,y)        \n",
    "        return cost, grad\n",
    "       \n",
    "    def entrena(self, X, y):\n",
    "        self.X = X\n",
    "        self.y = y\n",
    "    \n",
    "        self.Costos = []\n",
    "        pesos = self.NN.getPesos()\n",
    " \n",
    "        opciones = {'maxiter': 200, 'disp' : True}\n",
    "        \n",
    "        salida = optimize.minimize(self.obtenPesosNN, pesos, jac=True, method='BFGS', \\\n",
    "                                 args=(X, y), options=opciones, callback=self.actualizaPesos)\n",
    " \n",
    "        self.NN.setPesos(salida.x)\n",
    "        self.resultados = salida"
   ]
  },
  {
   "cell_type": "code",
   "execution_count": 56,
   "metadata": {},
   "outputs": [],
   "source": [
    "'''\n",
    "Volvemos a crear una nueva instancia de la red neuronal para probarla con \n",
    "el entrenador\n",
    "'''\n",
    "nn = RedNeuronal()"
   ]
  },
  {
   "cell_type": "code",
   "execution_count": 57,
   "metadata": {},
   "outputs": [],
   "source": [
    "#ingresamos el objeto de la red neuronal a la clase del entrenador\n",
    "e = Entrenador(nn)"
   ]
  },
  {
   "cell_type": "code",
   "execution_count": 58,
   "metadata": {},
   "outputs": [
    {
     "name": "stdout",
     "output_type": "stream",
     "text": [
      "Warning: Maximum number of iterations has been exceeded.\n",
      "         Current function value: 0.024002\n",
      "         Iterations: 200\n",
      "         Function evaluations: 211\n",
      "         Gradient evaluations: 211\n"
     ]
    }
   ],
   "source": [
    "#Probamos los valores de Xn y yn en el entrenador\n",
    "e.entrena(Xn, yn)"
   ]
  },
  {
   "cell_type": "code",
   "execution_count": 59,
   "metadata": {},
   "outputs": [
    {
     "data": {
      "text/plain": [
       "Text(0.5,0,'iteracion')"
      ]
     },
     "execution_count": 59,
     "metadata": {},
     "output_type": "execute_result"
    },
    {
     "data": {
      "image/png": "[encoded data removed]",
      "text/plain": [
       "<Figure size 432x288 with 1 Axes>"
      ]
     },
     "metadata": {},
     "output_type": "display_data"
    }
   ],
   "source": [
    "#Graficamos los valores de costo y el número de iteraciónes\n",
    "plt.plot(e.Costos)\n",
    "plt.grid()\n",
    "plt.ylabel(\"costo\")\n",
    "plt.xlabel(\"iteracion\")"
   ]
  },
  {
   "cell_type": "code",
   "execution_count": 42,
   "metadata": {},
   "outputs": [],
   "source": [
    "#Arrays de entrenamiento\n",
    "trainX = np.array(([180.022,43.836,-0.487,1.393, 2.497, 23.684, 8.5739, 120.968], [124.452,60.83,-0.024,3.587, 1.495, 40.48261, 6.1833, 101.4937], [99.822, 50.492, -0.487, 3.463, 13.038, 43.6083, 3.2093, 104.393], [103.598, 30.491,1.487,2.194, 1.697, 230.028, 10.447, 135.478]), dtype=float)\n",
    "trainY = np.array(([0], [1], [0], [1]), dtype=float)\n",
    "\n",
    "#Arrays de prueba\n",
    "testX = np.array(([190.344, 50.009, 1.2006,3.846,1.733,30.986,3.49,142.01], [291.564, 30.30, 2.19, -4.201, 3.523, 23.56, 3.498, 125.093], [172.454, 43.78, -2.34, 4.397, 2.487, 24.398, 3.434, 122.144], [190.344, 50.009, 1.2006,3.846,1.733,30.986,3.37,142.49]), dtype=float)\n",
    "testY = np.array(([1], [1], [0], [0]), dtype=float)\n"
   ]
  },
  {
   "cell_type": "code",
   "execution_count": 43,
   "metadata": {},
   "outputs": [
    {
     "name": "stdout",
     "output_type": "stream",
     "text": [
      "[[190.344   50.009    1.2006   3.846    1.733   30.986    3.49   142.01  ]\n",
      " [291.564   30.3      2.19    -4.201    3.523   23.56     3.498  125.093 ]\n",
      " [172.454   43.78    -2.34     4.397    2.487   24.398    3.434  122.144 ]\n",
      " [190.344   50.009    1.2006   3.846    1.733   30.986    3.37   142.49  ]]\n",
      "[[ 1.          0.72063127 -0.32750504  0.38834681  0.1915171   0.10296138\n",
      "   0.82070451  0.89289774]\n",
      " [ 0.69131551  1.         -0.01613988  1.          0.11466483  0.17598992\n",
      "   0.59187327  0.74915263]\n",
      " [ 0.55449889  0.83005096 -0.32750504  0.96543072  1.          0.18957823\n",
      "   0.30719824  0.77055315]\n",
      " [ 0.57547411  0.50124938  1.          0.61165319  0.130158    1.\n",
      "   1.          1.        ]]\n"
     ]
    }
   ],
   "source": [
    "#Normalización de los nuevos arrays\n",
    "trainX = trainX/np.amax(trainX, axis=0)\n",
    "trainY = trainY/100 \n",
    "\n",
    "testX = testX/np.amax(trainX, axis=0)\n",
    "testY = testY/100\n",
    "\n",
    "print(testX)\n",
    "print(trainX)"
   ]
  },
  {
   "cell_type": "code",
   "execution_count": 44,
   "metadata": {},
   "outputs": [],
   "source": [
    "#Clase de Entrenador considerando los arrays de entrenamiento y prueba\n",
    "from scipy import optimize\n",
    "class Entrenador:\n",
    "    def __init__(self, unaRed):\n",
    "        #referencia a una red local\n",
    "        self.NN = unaRed\n",
    "       \n",
    "    def actualizaPesos(self, params):\n",
    "        self.NN.setPesos(params)\n",
    "        self.Costos.append(self.NN.funcionCosto(self.X, self.y))  \n",
    "        self.CostosTest.append( \\\n",
    "            self.NN.funcionCosto(self.Xtest, self.ytest))\n",
    "       \n",
    "    def obtenPesosNN(self, params, X, y):\n",
    "        self.NN.setPesos(params)\n",
    "        cost = self.NN.funcionCosto(X, y)\n",
    "        grad = self.NN.getGradientes(X,y)        \n",
    "        return cost, grad\n",
    "       \n",
    "    def entrena(self, Xtrain, ytrain, Xtest, ytest):\n",
    "        # variables para funciones callback\n",
    "        self.X = Xtrain\n",
    "        self.y = ytrain\n",
    "        \n",
    "        self.Xtest = Xtest\n",
    "        self.ytest = ytest\n",
    "        \n",
    "        # lista temporal de costos\n",
    "        self.Costos = []\n",
    "        self.CostosTest = []\n",
    "        \n",
    "        pesos = self.NN.getPesos()\n",
    " \n",
    "        opciones = {'maxiter': 200, 'disp' : True}\n",
    "        \n",
    "      \n",
    "        salida = optimize.minimize(self.obtenPesosNN, pesos, jac=True, method='BFGS', \\\n",
    "                                 args=(Xtrain, ytrain), \\\n",
    "                                   options=opciones, \\\n",
    "                                   callback=self.actualizaPesos)\n",
    " \n",
    "        self.NN.setPesos(salida.x)\n",
    "        self.resultados = salida"
   ]
  },
  {
   "cell_type": "code",
   "execution_count": 45,
   "metadata": {},
   "outputs": [
    {
     "name": "stdout",
     "output_type": "stream",
     "text": [
      "Optimization terminated successfully.\n",
      "         Current function value: 0.000070\n",
      "         Iterations: 3\n",
      "         Function evaluations: 8\n",
      "         Gradient evaluations: 8\n"
     ]
    }
   ],
   "source": [
    "#Crear nueva instancia de la red neuronal\n",
    "nn = RedNeuronal()\n",
    "\n",
    "#Ingresar al entrenador la red nueronal\n",
    "e = Entrenador(nn)\n",
    "\n",
    "#Ingresar los arrays de entrenamiento y prueba\n",
    "e.entrena(trainX, trainY, testX, testY)"
   ]
  },
  {
   "cell_type": "code",
   "execution_count": 46,
   "metadata": {},
   "outputs": [
    {
     "data": {
      "text/plain": [
       "Text(0.5,0,'iteraciones')"
      ]
     },
     "execution_count": 46,
     "metadata": {},
     "output_type": "execute_result"
    },
    {
     "data": {
      "image/png": "[encoded data removed]",
      "text/plain": [
       "<Figure size 432x288 with 1 Axes>"
      ]
     },
     "metadata": {},
     "output_type": "display_data"
    }
   ],
   "source": [
    "#Graficar nuevamente el costo y las iteraciones\n",
    "plt.plot(e.Costos)\n",
    "plt.plot(e.CostosTest)\n",
    "plt.grid(1)\n",
    "plt.ylabel(\"costo\")\n",
    "plt.xlabel(\"iteraciones\")"
   ]
  },
  {
   "cell_type": "code",
   "execution_count": 47,
   "metadata": {},
   "outputs": [],
   "source": [
    "#Clase de RedNeuronal considerando el valor de Lambda\n",
    "class RedNeuronal():\n",
    "    def __init__(self, Lambda = 0):\n",
    "        self.inputs = 8\n",
    "        self.outputs = 1\n",
    "        self.hidden = 3\n",
    "        self.W1 = np.random.rand(self.inputs, self.hidden)\n",
    "        self.W2 = np.random.rand(self.hidden, self.outputs)\n",
    "        self.Lambda = Lambda\n",
    "        \n",
    "    def sigmoide(self, Z):\n",
    "        return 1 / (1 + np.exp(-Z))\n",
    "    \n",
    "    def feedForward(self, X):\n",
    "        self.Z2 =  X @ self.W1 \n",
    "        self.a2 =  self.sigmoide(self.Z2)  \n",
    "        self.Z3 =   self.a2 @ self.W2 \n",
    "        self.yhat =  self.sigmoide(self.Z3)\n",
    "        return self.yhat\n",
    "    def sigmoideDerivada(self, Z):\n",
    "        return np.exp(-Z)/((1+np.exp(-Z))**2)\n",
    "    \n",
    "    def funcionCosto(self, X, y):\n",
    "        self.yhat = self.feedForward(X)\n",
    "        Costo = 0.5*sum((y-self.yhat)**2)/X.shape[0] + (self.Lambda/2) \\\n",
    "        * (np.sum(self.W1**2) + np.sum(self.W2**2))\n",
    "        return Costo\n",
    "    \n",
    "    def funcionDeCostoDerivada(self, X, y):\n",
    "        self.yhat = self.feedForward(X)\n",
    "        self.delta3 = np.multiply( -(y-self.yhat),\\\n",
    "                                  self.sigmoideDerivada(self.Z3))\n",
    "        \n",
    "        djW2 = (self.a2.T @ self.delta3) / X.shape[0] + (self.Lambda* self.W2)\n",
    "        self.delta2 = self.delta3@self.W2.T *self.sigmoideDerivada(self.Z2)\n",
    "        djW1 = X.T @ self.delta2 / X.shape[0] + (self.Lambda* self.W1) \n",
    "\n",
    "        return djW1, djW2\n",
    "    \n",
    "    def getPesos(self):\n",
    "        data = np.concatenate((self.W1.ravel(), self.W2.ravel()))\n",
    "        return data\n",
    "   \n",
    "    def setPesos(self, datos):\n",
    "        W1_inicio = 0\n",
    "        W1_fin = self.hidden * self.inputs\n",
    "        self.W1 = np.reshape(datos[W1_inicio:W1_fin], (self.inputs , self.hidden))\n",
    "        W2_fin = W1_fin + self.hidden*self.outputs\n",
    "        self.W2 = np.reshape(datos[W1_fin:W2_fin], (self.hidden, self.outputs))\n",
    "   \n",
    "    def getGradientes(self, X, y):\n",
    "        djW1, djW2 = self.funcionDeCostoDerivada(X, y)\n",
    "        return np.concatenate((djW1.ravel(), djW2.ravel()))"
   ]
  },
  {
   "cell_type": "code",
   "execution_count": 48,
   "metadata": {},
   "outputs": [
    {
     "name": "stdout",
     "output_type": "stream",
     "text": [
      "Optimization terminated successfully.\n",
      "         Current function value: 0.000607\n",
      "         Iterations: 35\n",
      "         Function evaluations: 40\n",
      "         Gradient evaluations: 40\n"
     ]
    }
   ],
   "source": [
    "nn = RedNeuronal(Lambda=0.0001)\n",
    "e = Entrenador(nn)\n",
    "e.entrena(trainX, trainY, testX, testY)"
   ]
  },
  {
   "cell_type": "code",
   "execution_count": 49,
   "metadata": {},
   "outputs": [
    {
     "data": {
      "text/plain": [
       "<matplotlib.legend.Legend at 0x1ca1a236278>"
      ]
     },
     "execution_count": 49,
     "metadata": {},
     "output_type": "execute_result"
    },
    {
     "data": {
      "image/png": "[encoded data removed]",
      "text/plain": [
       "<Figure size 432x288 with 1 Axes>"
      ]
     },
     "metadata": {},
     "output_type": "display_data"
    }
   ],
   "source": [
    "plt.plot(e.Costos)\n",
    "plt.plot(e.CostosTest)\n",
    "plt.grid(1)\n",
    "plt.ylabel(\"costo\")\n",
    "plt.xlabel(\"iteraciones\")\n",
    "plt.legend(['entrenamiento', 'pruebas'])"
   ]
  }
 ],
 "metadata": {
  "kernelspec": {
   "display_name": "Python 3",
   "language": "python",
   "name": "python3"
  },
  "language_info": {
   "codemirror_mode": {
    "name": "ipython",
    "version": 3
   },
   "file_extension": ".py",
   "mimetype": "text/x-python",
   "name": "python",
   "nbconvert_exporter": "python",
   "pygments_lexer": "ipython3",
   "version": "3.6.5"
  }
 },
 "nbformat": 4,
 "nbformat_minor": 2
}
